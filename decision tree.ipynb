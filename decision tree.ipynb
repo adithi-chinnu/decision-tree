{
 "cells": [
  {
   "cell_type": "code",
   "execution_count": 9,
   "id": "1408aa4b",
   "metadata": {},
   "outputs": [],
   "source": [
    "# Import neccessary libaries\n",
    "import pandas as pd\n",
    "from sklearn import tree\n",
    "from sklearn.preprocessing import LabelEncoder\n",
    "from sklearn.tree import DecisionTreeClassifier"
   ]
  },
  {
   "cell_type": "code",
   "execution_count": 10,
   "id": "04d6fd92",
   "metadata": {},
   "outputs": [
    {
     "name": "stdout",
     "output_type": "stream",
     "text": [
      "The first 5 values of data is \n",
      "     Outlook Temperature Humidity  Windy PlayTennis\n",
      "0     Sunny         Hot     High  False         No\n",
      "1     Sunny         Hot     High   True         No\n",
      "2  Overcast         Hot     High  False        Yes\n",
      "3     Rainy        Mild     High  False        Yes\n",
      "4     Rainy        Cool   Normal  False        Yes\n"
     ]
    }
   ],
   "source": [
    "# Load data from CSV\n",
    "data = pd.read_csv('tennisdata.csv')\n",
    "print(\"The first 5 values of data is \\n\",data.head())"
   ]
  },
  {
   "cell_type": "code",
   "execution_count": 11,
   "id": "8e4ce556",
   "metadata": {},
   "outputs": [
    {
     "name": "stdout",
     "output_type": "stream",
     "text": [
      "\n",
      "The first 5 values of Train data is \n",
      "     Outlook Temperature Humidity  Windy\n",
      "0     Sunny         Hot     High  False\n",
      "1     Sunny         Hot     High   True\n",
      "2  Overcast         Hot     High  False\n",
      "3     Rainy        Mild     High  False\n",
      "4     Rainy        Cool   Normal  False\n",
      "\n",
      "The first 5 values of Train output is \n",
      " 0     No\n",
      "1     No\n",
      "2    Yes\n",
      "3    Yes\n",
      "4    Yes\n",
      "Name: PlayTennis, dtype: object\n"
     ]
    }
   ],
   "source": [
    "# Obtain Train data and Train output\n",
    "X = data.iloc[:,:-1]\n",
    "print(\"\\nThe first 5 values of Train data is \\n\",X.head())\n",
    "\n",
    "y = data.iloc[:,-1]\n",
    "print(\"\\nThe first 5 values of Train output is \\n\",y.head())"
   ]
  },
  {
   "cell_type": "code",
   "execution_count": 18,
   "id": "b22c9dc8",
   "metadata": {},
   "outputs": [
    {
     "name": "stdout",
     "output_type": "stream",
     "text": [
      "\n",
      "Now the Train data is    Outlook  Temperature  Humidity  Windy\n",
      "0        2            1         0      0\n",
      "1        2            1         0      1\n",
      "2        0            1         0      0\n",
      "3        1            2         0      0\n",
      "4        1            0         1      0\n",
      "\n",
      "Now the Train data is \n",
      " [0 0 1 1 1 0 1 0 1 1 1 1 1 0]\n",
      "Accuracy is: 0.6666666666666666\n"
     ]
    }
   ],
   "source": [
    "# Convert them in numbers\n",
    "lbencoder = LabelEncoder()\n",
    "X.Outlook =  lbencoder.fit_transform(X.Outlook)\n",
    "X.Temperature =  lbencoder.fit_transform(X.Temperature)\n",
    "X.Humidity =  lbencoder.fit_transform(X.Humidity)\n",
    "X.Windy =  lbencoder.fit_transform(X.Windy)\n",
    "print(\"\\nNow the Train data is\",X.head())\n",
    "\n",
    "\n",
    "le_PlayTennis = LabelEncoder()\n",
    "y =  le_PlayTennis.fit_transform(y)\n",
    "print(\"\\nNow the Train data is \\n\",y)\n",
    "\n",
    "\n",
    "\n",
    "from sklearn.model_selection import train_test_split\n",
    "X_train, X_test, y_train, y_test = train_test_split(X,y, test_size=0.20)\n",
    "classifier = DecisionTreeClassifier()\n",
    "classifier.fit(X_train, y_train)\n",
    "from sklearn.metrics import accuracy_score\n",
    "print(\"Accuracy is:\",accuracy_score(classifier.predict(X_test),y_test))\n"
   ]
  },
  {
   "cell_type": "code",
   "execution_count": 19,
   "id": "43da8aa1",
   "metadata": {},
   "outputs": [
    {
     "data": {
      "image/png": "[encoded data removed]",
      "text/plain": [
       "<Figure size 432x288 with 1 Axes>"
      ]
     },
     "metadata": {
      "needs_background": "light"
     },
     "output_type": "display_data"
    }
   ],
   "source": [
    "# check predicted value\n",
    "y_pred =classifier.predict(X_test)\n",
    "y_pred\n",
    "\n",
    "\n",
    "#check actual value\n",
    "y_test\n",
    "\n",
    "\n",
    "\n",
    "from sklearn import tree\n",
    "tree.plot_tree(classifier);"
   ]
  },
  {
   "cell_type": "code",
   "execution_count": null,
   "id": "83064920",
   "metadata": {},
   "outputs": [],
   "source": []
  }
 ],
 "metadata": {
  "kernelspec": {
   "display_name": "Python 3 (ipykernel)",
   "language": "python",
   "name": "python3"
  },
  "language_info": {
   "codemirror_mode": {
    "name": "ipython",
    "version": 3
   },
   "file_extension": ".py",
   "mimetype": "text/x-python",
   "name": "python",
   "nbconvert_exporter": "python",
   "pygments_lexer": "ipython3",
   "version": "3.9.7"
  }
 },
 "nbformat": 4,
 "nbformat_minor": 5
}
